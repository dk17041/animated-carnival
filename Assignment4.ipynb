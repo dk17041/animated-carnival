{
 "cells": [
  {
   "cell_type": "markdown",
   "metadata": {},
   "source": [
    "<h5>1.1 Write a Python Program(with class concepts) to find the area of the triangle using the below\n",
    "formula.\n",
    "area = (s*(s-a)*(s-b)*(s-c)) ** 0.5<h5>\n",
    "\n",
    "<h6>Function to take the length of the sides of triangle from user should be defined in the parent\n",
    "class and function to calculate the area should be defined in subclass.<h6>"
   ]
  },
  {
   "cell_type": "code",
   "execution_count": 20,
   "metadata": {},
   "outputs": [],
   "source": [
    "class triangle:\n",
    "    def __init__(self,a,b,c):\n",
    "        self.a =int(a)\n",
    "        self.b =int(b)\n",
    "        self.c = int(c)\n",
    "        "
   ]
  },
  {
   "cell_type": "code",
   "execution_count": 27,
   "metadata": {},
   "outputs": [],
   "source": [
    "class triarea(triangle):\n",
    "    def __init__(self,a,b,c):\n",
    "        super(triarea,self).__init__(a, b,c)\n",
    "                \n",
    "    def areaq(self):\n",
    "        s = (self.a +self.b +self.c)/2\n",
    "        area1 = (s*(s-self.a)*(s-self.b)*(s-self.c))*0.5\n",
    "        print(area1)"
   ]
  },
  {
   "cell_type": "code",
   "execution_count": 28,
   "metadata": {},
   "outputs": [],
   "source": [
    "a =triarea(3,4,5)"
   ]
  },
  {
   "cell_type": "code",
   "execution_count": 29,
   "metadata": {},
   "outputs": [
    {
     "name": "stdout",
     "output_type": "stream",
     "text": [
      "18.0\n"
     ]
    }
   ],
   "source": [
    "a.areaq()"
   ]
  },
  {
   "cell_type": "markdown",
   "metadata": {},
   "source": [
    "<h5>1.2 Write a function filter_long_words() that takes a list of words and an integer n and returns\n",
    "the list of words that are longer than n.<h5>"
   ]
  },
  {
   "cell_type": "code",
   "execution_count": 4,
   "metadata": {},
   "outputs": [],
   "source": [
    "def filter_long_words(words,n):\n",
    "    list1 =[]\n",
    "    for word in words:\n",
    "        leng = len(word)\n",
    "        if leng > n:\n",
    "            list1.append(word)\n",
    "    return list1"
   ]
  },
  {
   "cell_type": "code",
   "execution_count": 5,
   "metadata": {},
   "outputs": [],
   "source": [
    "words= ['sad','must','musted','Understood','Firework']"
   ]
  },
  {
   "cell_type": "code",
   "execution_count": 6,
   "metadata": {},
   "outputs": [
    {
     "name": "stdout",
     "output_type": "stream",
     "text": [
      "['musted', 'Understood', 'Firework']\n"
     ]
    }
   ],
   "source": [
    "m = filter_long_words(words,4)\n",
    "print(m)"
   ]
  },
  {
   "cell_type": "markdown",
   "metadata": {},
   "source": [
    "<h5>2.1 Write a Python program using function concept that maps list of words into a list of integers\n",
    "representing the lengths of the corresponding words.<h5><h6>Hint: If a list [ ab,cde,erty] is passed on to the python function output should come as [2,3,4], Here 2,3 and 4 are the lengths of the words in the list.<h6>"
   ]
  },
  {
   "cell_type": "code",
   "execution_count": 14,
   "metadata": {},
   "outputs": [],
   "source": [
    "def length_words(words):\n",
    "    list1 =[]\n",
    "    for word in words:\n",
    "        leng = len(word)\n",
    "        list1.append(leng)\n",
    "    return list1"
   ]
  },
  {
   "cell_type": "code",
   "execution_count": 15,
   "metadata": {},
   "outputs": [
    {
     "name": "stdout",
     "output_type": "stream",
     "text": [
      "[3, 4, 6, 10, 8]\n"
     ]
    }
   ],
   "source": [
    "words= ['sad','must','musted','Understood','Firework']\n",
    "m = length_words(words)\n",
    "print(m)"
   ]
  },
  {
   "cell_type": "markdown",
   "metadata": {},
   "source": [
    "<h5>2.2 Write a Python function which takes a character (i.e. a string of length 1) and returns True if\n",
    "it is a vowel, False otherwise.<h5>"
   ]
  },
  {
   "cell_type": "code",
   "execution_count": 29,
   "metadata": {},
   "outputs": [],
   "source": [
    "def list_charters(chars):\n",
    "    list2  = []\n",
    "    vow = ['a','e','i','o','u']\n",
    "    for char in chars:\n",
    "        bol = False\n",
    "        for i in vow:\n",
    "            if char is i:\n",
    "                bol = True\n",
    "                break\n",
    "        list2.append(bol)\n",
    "    return list2"
   ]
  },
  {
   "cell_type": "code",
   "execution_count": 30,
   "metadata": {},
   "outputs": [
    {
     "name": "stdout",
     "output_type": "stream",
     "text": [
      "[True, False, False, True, False, False, True, False]\n"
     ]
    }
   ],
   "source": [
    "list3 = ['a','b','c','o','m','v','i','z']\n",
    "m = list_charters(list3)\n",
    "print(m)"
   ]
  },
  {
   "cell_type": "code",
   "execution_count": null,
   "metadata": {},
   "outputs": [],
   "source": []
  }
 ],
 "metadata": {
  "kernelspec": {
   "display_name": "Python 3",
   "language": "python",
   "name": "python3"
  },
  "language_info": {
   "codemirror_mode": {
    "name": "ipython",
    "version": 3
   },
   "file_extension": ".py",
   "mimetype": "text/x-python",
   "name": "python",
   "nbconvert_exporter": "python",
   "pygments_lexer": "ipython3",
   "version": "3.7.9"
  }
 },
 "nbformat": 4,
 "nbformat_minor": 4
}
